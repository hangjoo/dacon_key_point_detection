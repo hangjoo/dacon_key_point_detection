{
 "cells": [
  {
   "cell_type": "code",
   "execution_count": 1,
   "id": "applicable-maryland",
   "metadata": {},
   "outputs": [],
   "source": [
    "import neptune"
   ]
  },
  {
   "cell_type": "code",
   "execution_count": 2,
   "id": "broken-legislature",
   "metadata": {},
   "outputs": [],
   "source": [
    "hyper_params = {\n",
    "    \"batch_size\": 128,\n",
    "    \"num_epoch\": 100,\n",
    "    \"learning_rate\": 1e-3,\n",
    "    \"input_size\": (256, 256, 3)\n",
    "}"
   ]
  },
  {
   "cell_type": "code",
   "execution_count": 3,
   "id": "private-glossary",
   "metadata": {},
   "outputs": [
    {
     "name": "stdout",
     "output_type": "stream",
     "text": [
      "https://ui.neptune.ai/hangjoo/Dacon-motion-keypoint-detection/e/DACON-3\r\n"
     ]
    },
    {
     "data": {
      "text/plain": [
       "Experiment(DACON-3)"
      ]
     },
     "execution_count": 3,
     "metadata": {},
     "output_type": "execute_result"
    }
   ],
   "source": [
    "api_token = \"eyJhcGlfYWRkcmVzcyI6Imh0dHBzOi8vdWkubmVwdHVuZS5haSIsImFwaV91cmwiOiJodHRwczovL3VpLm5lcHR1bmUuYWkiLCJhcGlfa2V5IjoiNzdhYzNlNGYtZDI3Yi00ZGQ0LWFjNGMtZTAxNzllMjM4M2JiIn0=\"\n",
    "\n",
    "ns = neptune.init(project_qualified_name=\"hangjoo/Dacon-motion-keypoint-detection\",\n",
    "                  api_token=api_token)\n",
    "\n",
    "neptune.create_experiment(name=\"test_experiment\", params=hyper_params)"
   ]
  },
  {
   "cell_type": "code",
   "execution_count": 4,
   "id": "cellular-diameter",
   "metadata": {},
   "outputs": [],
   "source": [
    "for i in range(hyper_params[\"num_epoch\"]):\n",
    "    neptune.log_metric(\"train loss\", i, 2 ** (-i))\n",
    "    neptune.log_metric(\"valid loss\", i, 1.5 ** (-i))"
   ]
  },
  {
   "cell_type": "code",
   "execution_count": null,
   "id": "favorite-microphone",
   "metadata": {},
   "outputs": [],
   "source": []
  }
 ],
 "metadata": {
  "kernelspec": {
   "display_name": "Python 3",
   "language": "python",
   "name": "python3"
  },
  "language_info": {
   "codemirror_mode": {
    "name": "ipython",
    "version": 3
   },
   "file_extension": ".py",
   "mimetype": "text/x-python",
   "name": "python",
   "nbconvert_exporter": "python",
   "pygments_lexer": "ipython3",
   "version": "3.7.10"
  }
 },
 "nbformat": 4,
 "nbformat_minor": 5
}
