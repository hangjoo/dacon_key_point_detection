{
 "cells": [
  {
   "cell_type": "code",
   "execution_count": 16,
   "id": "lonely-custom",
   "metadata": {},
   "outputs": [],
   "source": [
    "import os\n",
    "\n",
    "from tqdm import tqdm\n",
    "import cv2\n",
    "import numpy as np\n",
    "import pandas as pd\n",
    "\n",
    "from detectron2 import model_zoo\n",
    "from detectron2.config import get_cfg\n",
    "from detectron2.data import MetadataCatalog, DatasetCatalog"
   ]
  },
  {
   "cell_type": "code",
   "execution_count": 13,
   "id": "impossible-devon",
   "metadata": {},
   "outputs": [],
   "source": [
    "def train_val_split(imgs, keypoints, random_state=42):\n",
    "    d = dict()\n",
    "    for file in imgs:\n",
    "        key = \"\".join(file.split(\"-\")[:-1])\n",
    "        if key not in d.keys():\n",
    "            d[key] = [file]\n",
    "        else:\n",
    "            d[key].append(file)\n",
    "\n",
    "    np.random.seed(random_state)\n",
    "    trains = []\n",
    "    validations = []\n",
    "    for key, value in d.items():\n",
    "        r = np.random.randint(len(value), size=2)\n",
    "        for i in range(len(value)):\n",
    "            if i in r:\n",
    "                validations.append(np.where(imgs == value[i])[0][0])\n",
    "            else:\n",
    "                trains.append(np.where(imgs == value[i])[0][0])\n",
    "    return (imgs[trains], imgs[validations], keypoints[trains], keypoints[validations])"
   ]
  },
  {
   "cell_type": "code",
   "execution_count": 14,
   "id": "handled-indiana",
   "metadata": {},
   "outputs": [],
   "source": [
    "def get_data_dicts(data_dir, imgs, keypoints, phase):\n",
    "    # train_dir = os.path.join(data_dir, \"augmented\" if phase==\"train\" else \"train_imgs\")\n",
    "    train_dir = os.path.join(data_dir, \"train_imgs\")\n",
    "    dataset_dicts = []\n",
    "\n",
    "    for idx, item in tqdm(enumerate(zip(imgs, keypoints))):\n",
    "        img, keypoint = item[0], item[1]\n",
    "\n",
    "        record = {}\n",
    "        filepath = os.path.join(train_dir, img)\n",
    "        record[\"height\"], record[\"width\"] = cv2.imread(filepath).shape[:2]\n",
    "        record[\"file_name\"] = filepath\n",
    "        record[\"image_id\"] = idx\n",
    "\n",
    "        keypoints_v = []\n",
    "        for i, keypoint_ in enumerate(keypoint):\n",
    "            keypoints_v.append(keypoint_)  # if coco set, should be added 0.5\n",
    "            if i % 2 == 1:\n",
    "                keypoints_v.append(2)\n",
    "\n",
    "        x = keypoint[0::2]\n",
    "        y = keypoint[1::2]\n",
    "        x_min, x_max = min(x), max(x)\n",
    "        y_min, y_max = min(y), max(y)\n",
    "\n",
    "        obj = {\"bbox\": [x_min, y_min, x_max, y_max], \"bbox_mode\": BoxMode.XYXY_ABS, \"category_id\": 0, \"keypoints\": keypoints_v}\n",
    "\n",
    "        record[\"annotations\"] = [obj]\n",
    "        dataset_dicts.append(record)\n",
    "    return dataset_dicts"
   ]
  },
  {
   "cell_type": "code",
   "execution_count": 15,
   "id": "transsexual-latino",
   "metadata": {},
   "outputs": [],
   "source": [
    "data_path = \"../data\"\n",
    "csv_name = \"train_df_modified.csv\"\n",
    "\n",
    "train_df = pd.read_csv(os.path.join(data_path, csv_name))\n",
    "\n",
    "keypoint_names = list(map(lambda x: x[:-2], train_df.columns.to_list()[1::2]))\n",
    "keypoint_flip_map = [(keypoint_name + \"_x\", keypoint_name + \"_y\") for keypoint_name in keypoint_names]\n",
    "\n",
    "image_list = train_df.iloc[:, 0].to_numpy()\n",
    "keypoints_list = train_df.iloc[:, 1:].to_numpy()\n",
    "train_imgs, valid_imgs, train_keypoints, valid_keypoints = train_val_split(image_list, keypoints_list, random_state=42)\n",
    "\n",
    "image_set = {\"train\": train_imgs, \"valid\": valid_imgs}\n",
    "keypoints_set = {\"train\": train_keypoints, \"valid\": valid_keypoints}\n",
    "\n",
    "for phase in [\"train\", \"valid\"]:\n",
    "    DatasetCatalog.register(\"keypoints_\" + phase, lambda x: get_data_dicts(data_path, image_set[phase], keypoints_set[phase]))\n",
    "    MetadataCatalog.get(\"keypoints\" + phase).set(thing_classes=[\"motion\"])\n",
    "    MetadataCatalog.get(\"keypoints\" + phase).set(keypoint_names=keypoint_names)\n",
    "    MetadataCatalog.get(\"keypoints\" + phase).set(keypoint_flip_map=keypoint_flip_map)\n",
    "    MetadataCatalog.get(\"keypoints\" + phase).set(evaluator_type=\"coco\")\n",
    "    \n",
    "cfg = get_cfg()\n",
    "cfg.merge_from_file(model_zoo.get_config.file(\"COCO-Keypoints/keypoint_rcnn_X_101_32x8d_FPN_3x.yaml\"))\n",
    "cfg.DATASETS.TRAIN = (\"keypoints_train\")\n",
    "cfg.DATASETS.TEST = (\"keypoints_valid\")\n",
    "cfg.DATALOADER.NUM_WORKERS = 0\n",
    "cfg.MODEL.WEIGHTS = model_zoo.get_checkpoint_url(\"COCO-Keypoints/keypoint_rcnn_X_101_32x8d_FPN_3x.yaml\")"
   ]
  },
  {
   "cell_type": "code",
   "execution_count": null,
   "id": "brief-constant",
   "metadata": {},
   "outputs": [],
   "source": []
  }
 ],
 "metadata": {
  "kernelspec": {
   "display_name": "Python 3",
   "language": "python",
   "name": "python3"
  },
  "language_info": {
   "codemirror_mode": {
    "name": "ipython",
    "version": 3
   },
   "file_extension": ".py",
   "mimetype": "text/x-python",
   "name": "python",
   "nbconvert_exporter": "python",
   "pygments_lexer": "ipython3",
   "version": "3.7.10"
  },
  "toc": {
   "base_numbering": 1,
   "nav_menu": {},
   "number_sections": true,
   "sideBar": true,
   "skip_h1_title": false,
   "title_cell": "Table of Contents",
   "title_sidebar": "Contents",
   "toc_cell": false,
   "toc_position": {},
   "toc_section_display": true,
   "toc_window_display": false
  },
  "varInspector": {
   "cols": {
    "lenName": 16,
    "lenType": 16,
    "lenVar": 40
   },
   "kernels_config": {
    "python": {
     "delete_cmd_postfix": "",
     "delete_cmd_prefix": "del ",
     "library": "var_list.py",
     "varRefreshCmd": "print(var_dic_list())"
    },
    "r": {
     "delete_cmd_postfix": ") ",
     "delete_cmd_prefix": "rm(",
     "library": "var_list.r",
     "varRefreshCmd": "cat(var_dic_list()) "
    }
   },
   "types_to_exclude": [
    "module",
    "function",
    "builtin_function_or_method",
    "instance",
    "_Feature"
   ],
   "window_display": false
  }
 },
 "nbformat": 4,
 "nbformat_minor": 5
}
